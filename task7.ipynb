{
 "cells": [
  {
   "cell_type": "code",
   "execution_count": 5,
   "id": "b12a7dce-8895-4c76-83e6-dd895df8c3ac",
   "metadata": {},
   "outputs": [
    {
     "name": "stdout",
     "output_type": "stream",
     "text": [
      "✅ sales_data.db created with sample data!\n"
     ]
    }
   ],
   "source": [
    "import sqlite3\n",
    "conn = sqlite3.connect(\"sales_data.db\")\n",
    "cursor = conn.cursor()\n",
    "\n",
    "# Create sales table\n",
    "cursor.execute(\"\"\"\n",
    "CREATE TABLE IF NOT EXISTS sales (\n",
    "    id INTEGER PRIMARY KEY AUTOINCREMENT,\n",
    "    product TEXT,\n",
    "    quantity INTEGER,\n",
    "    price REAL\n",
    ")\n",
    "\"\"\")\n",
    "\n",
    "# Insert sample data\n",
    "sales_data = [\n",
    "    (\"Laptop\", 5, 60000),\n",
    "    (\"Laptop\", 3, 60000),\n",
    "    (\"Mobile\", 10, 15000),\n",
    "    (\"Mobile\", 7, 15000),\n",
    "    (\"Headphones\", 15, 2000),\n",
    "    (\"Headphones\", 20, 2000),\n",
    "    (\"Tablet\", 4, 25000),\n",
    "    (\"Tablet\", 2, 25000)\n",
    "]\n",
    "\n",
    "cursor.executemany(\"INSERT INTO sales (product, quantity, price) VALUES (?, ?, ?)\", sales_data)\n",
    "\n",
    "# Commit and close\n",
    "conn.commit()\n",
    "conn.close()\n",
    "\n",
    "print(\"✅ sales_data.db created with sample data!\")\n"
   ]
  },
  {
   "cell_type": "code",
   "execution_count": 6,
   "id": "27a498f7-6d89-49df-b838-7c16b7841d23",
   "metadata": {},
   "outputs": [
    {
     "name": "stdout",
     "output_type": "stream",
     "text": [
      "Sales Summary:\n",
      "      product  total_qty   revenue\n",
      "0  Headphones         35   70000.0\n",
      "1      Laptop          8  480000.0\n",
      "2      Mobile         17  255000.0\n",
      "3      Tablet          6  150000.0\n"
     ]
    },
    {
     "data": {
      "image/png": "[encoded data removed]",
      "text/plain": [
       "<Figure size 800x500 with 1 Axes>"
      ]
     },
     "metadata": {},
     "output_type": "display_data"
    }
   ],
   "source": [
    "import sqlite3\n",
    "import pandas as pd\n",
    "import matplotlib.pyplot as plt\n",
    "\n",
    "# Step 1: Connect to SQLite database\n",
    "conn = sqlite3.connect(\"sales_data.db\")\n",
    "\n",
    "# Step 2: SQL query to get total quantity & revenue per product\n",
    "query = \"\"\"\n",
    "SELECT \n",
    "    product, \n",
    "    SUM(quantity) AS total_qty, \n",
    "    SUM(quantity * price) AS revenue\n",
    "FROM sales\n",
    "GROUP BY product\n",
    "\"\"\"\n",
    "df = pd.read_sql_query(query, conn)\n",
    "\n",
    "# Step 3: Print results\n",
    "print(\"Sales Summary:\")\n",
    "print(df)\n",
    "\n",
    "# Step 4: Plot bar chart for revenue by product\n",
    "plt.figure(figsize=(8, 5))\n",
    "plt.bar(df['product'], df['revenue'], color='skyblue')\n",
    "plt.title('Revenue by Product')\n",
    "plt.xlabel('Product')\n",
    "plt.ylabel('Revenue')\n",
    "plt.xticks(rotation=45)\n",
    "plt.tight_layout()\n",
    "plt.savefig(\"sales_chart.png\")  # Save chart\n",
    "plt.show()\n",
    "\n",
    "# Step 5: Close the database connection\n",
    "conn.close()\n"
   ]
  },
  {
   "cell_type": "code",
   "execution_count": 7,
   "id": "f86edd30-152e-4414-a4fe-9f87c78f3bd6",
   "metadata": {},
   "outputs": [
    {
     "ename": "SyntaxError",
     "evalue": "invalid character '→' (U+2192) (3600098001.py, line 22)",
     "output_type": "error",
     "traceback": [
      "\u001b[1;36m  Cell \u001b[1;32mIn[7], line 22\u001b[1;36m\u001b[0m\n\u001b[1;33m    - `create_sales_db.py` → Script to create SQLite database.\u001b[0m\n\u001b[1;37m                           ^\u001b[0m\n\u001b[1;31mSyntaxError\u001b[0m\u001b[1;31m:\u001b[0m invalid character '→' (U+2192)\n"
     ]
    }
   ],
   "source": [
    "\n",
    "\n",
    "## Objective\n",
    "Get a basic sales summary from a small SQLite database using Python.\n",
    "\n",
    "## Tools Used\n",
    "- Python (`sqlite3`, `pandas`, `matplotlib`)\n",
    "- SQLite (built into Python)\n",
    "\n",
    "## Steps Performed\n",
    "1. Created `sales_data.db` with sample sales data.\n",
    "2. Connected Python to SQLite using `sqlite3.connect()`.\n",
    "3. Ran an SQL query to:\n",
    "   - Calculate total quantity sold (`SUM(quantity)`)\n",
    "   - Calculate total revenue (`SUM(quantity * price)`)\n",
    "   - Group results by product (`GROUP BY product`)\n",
    "4. Loaded SQL results into Pandas DataFrame.\n",
    "5. Printed the summary.\n",
    "6. Visualized revenue per product using a bar chart.\n",
    "\n",
    "## Files in Repo\n",
    "- `create_sales_db.py` → Script to create SQLite database.\n",
    "- `sales_summary.py` → Main analysis script.\n",
    "- `sales_chart.png` → Output bar chart.\n",
    "\n",
    "## Sample Output\n",
    "**Sales Summary:**\n",
    "| Product     | Total Qty | Revenue   |\n",
    "|-------------|-----------|-----------|\n",
    "| Laptop      | 8         | 480000    |\n",
    "| Mobile      | 17        | 255000    |\n",
    "| Headphones  | 35        | 70000     |\n",
    "| Tablet      | 6         | 150000    |\n",
    "\n"
   ]
  },
  {
   "cell_type": "code",
   "execution_count": null,
   "id": "47cb20cc-bc40-4821-8182-3e42e6610b1c",
   "metadata": {},
   "outputs": [],
   "source": []
  }
 ],
 "metadata": {
  "kernelspec": {
   "display_name": "Python [conda env:base] *",
   "language": "python",
   "name": "conda-base-py"
  },
  "language_info": {
   "codemirror_mode": {
    "name": "ipython",
    "version": 3
   },
   "file_extension": ".py",
   "mimetype": "text/x-python",
   "name": "python",
   "nbconvert_exporter": "python",
   "pygments_lexer": "ipython3",
   "version": "3.12.7"
  }
 },
 "nbformat": 4,
 "nbformat_minor": 5
}
